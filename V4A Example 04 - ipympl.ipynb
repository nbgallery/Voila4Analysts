{
 "cells": [
  {
   "cell_type": "markdown",
   "metadata": {},
   "source": [
    "# V4A Example 04 - ipympl\n",
    "\n",
    "The [ipympl library](https://github.com/matplotlib/ipympl) integrates matplotlib into the ipywidgets framework.  This example just covers a few basic things for using matplotlib with Voila, but please check out the [official demo notebook](https://github.com/matplotlib/ipympl/blob/master/examples/ipympl.ipynb) for a much more complete exploration."
   ]
  },
  {
   "cell_type": "code",
   "execution_count": null,
   "metadata": {},
   "outputs": [],
   "source": [
    "import matplotlib.pyplot as plt\n",
    "import numpy as np\n",
    "import ipywidgets as widgets"
   ]
  },
  {
   "cell_type": "markdown",
   "metadata": {},
   "source": [
    "## Widget backend\n",
    "\n",
    "To use ipympl, just set the matplotlib backend to `widget`.  This will enable some interactive features that you don't get with the usual `inline` backend."
   ]
  },
  {
   "cell_type": "code",
   "execution_count": null,
   "metadata": {},
   "outputs": [],
   "source": [
    "%matplotlib widget"
   ]
  },
  {
   "cell_type": "markdown",
   "metadata": {},
   "source": [
    "## Plotting from a callback\n",
    "\n",
    "As we saw with print statements and `IPython.display` in [Example 3](V4A%20Example%2003%20-%20Output%20Widgets.ipynb \"Example 3\"), generating output from a callback will not work in Voila.  Here's a quick example demonstrating that problem.  Note that we're using `plt.subplots()` here instead of `plt.figure()` -- in general you may not need to do that, but this example notebook has multiple callbacks that generate plots, and this ensures that plots get drawn in the right place."
   ]
  },
  {
   "cell_type": "code",
   "execution_count": null,
   "metadata": {},
   "outputs": [],
   "source": [
    "def callback1(w):\n",
    "    fig1, ax1 = plt.subplots()\n",
    "    ax1.plot(np.sin(1 * np.linspace(0, 10, 100)))\n",
    "    \n",
    "button1 = widgets.Button(description='Plot 1')\n",
    "button1.on_click(callback1)\n",
    "button1"
   ]
  },
  {
   "cell_type": "markdown",
   "metadata": {},
   "source": [
    "## Using an Output widget\n",
    "\n",
    "As in [Example 3](V4A%20Example%2003%20-%20Output%20Widgets.ipynb \"Example 3\"), an Output widget is a quick way to make matplotlib work in Voila.  This will work with the `inline` backend as well."
   ]
  },
  {
   "cell_type": "code",
   "execution_count": null,
   "metadata": {},
   "outputs": [],
   "source": [
    "output2 = widgets.Output()\n",
    "\n",
    "@output2.capture()\n",
    "def callback2(w):\n",
    "    fig2, ax2 = plt.subplots()\n",
    "    ax2.plot(np.sin(2 * np.linspace(0, 10, 100)))\n",
    "    \n",
    "button2 = widgets.Button(description='Plot 2')\n",
    "button2.on_click(callback2)\n",
    "widgets.VBox([button2, output2])"
   ]
  },
  {
   "cell_type": "markdown",
   "metadata": {},
   "source": [
    "## Using the figure's widget\n",
    "\n",
    "With ipympl and the `widget` backend, there's now another option: the plot figure's `canvas` member is actually a widget that you can add to your layout.  Two differences to note:\n",
    "\n",
    " * In the example above, both the `subplots()` and `plot()` calls are in the callback, so everything appears at once when you click the button.  Here, those two calls are split, so you will have a blank \"placeholder\" plot until you click the button.\n",
    " * We've added calls to `ioff()` and `ion()` here.  Normally, `subplots()` (and `figure()`, if you use that instead) will draw the plot immediately, so you end up getting two copies at once, one in the cell output area and another inside your widget layout.  Toggling interactive mode off and on will avoid that problem."
   ]
  },
  {
   "cell_type": "code",
   "execution_count": null,
   "metadata": {},
   "outputs": [],
   "source": [
    "def callback3(w):\n",
    "    ax3.plot(np.sin(3 * np.linspace(0, 10, 100)))\n",
    "\n",
    "plt.ioff()\n",
    "fig3, ax3 = plt.subplots()\n",
    "plt.ion()\n",
    "button3 = widgets.Button(description='Plot 3')\n",
    "button3.on_click(callback3)\n",
    "widgets.VBox([button3, fig3.canvas])"
   ]
  },
  {
   "cell_type": "markdown",
   "metadata": {},
   "source": [
    "Here's the same thing without the `ioff()` and `ion()` calls, in case you want to see the double display problem."
   ]
  },
  {
   "cell_type": "code",
   "execution_count": null,
   "metadata": {},
   "outputs": [],
   "source": [
    "def callback4(w):\n",
    "    ax4.plot(np.sin(4 * np.linspace(0, 10, 100)))\n",
    "\n",
    "fig4, ax4 = plt.subplots()\n",
    "button4 = widgets.Button(description='Plot 4')\n",
    "button4.on_click(callback4)\n",
    "widgets.VBox([button4, fig4.canvas])"
   ]
  },
  {
   "cell_type": "code",
   "execution_count": null,
   "metadata": {},
   "outputs": [],
   "source": []
  }
 ],
 "metadata": {
  "kernelspec": {
   "display_name": "Python 3",
   "language": "python",
   "name": "python3"
  },
  "language_info": {
   "codemirror_mode": {
    "name": "ipython",
    "version": 3
   },
   "file_extension": ".py",
   "mimetype": "text/x-python",
   "name": "python",
   "nbconvert_exporter": "python",
   "pygments_lexer": "ipython3",
   "version": "3.8.5"
  },
  "toc": {
   "base_numbering": 1,
   "nav_menu": {},
   "number_sections": true,
   "sideBar": true,
   "skip_h1_title": false,
   "title_cell": "Table of Contents",
   "title_sidebar": "Contents",
   "toc_cell": false,
   "toc_position": {},
   "toc_section_display": true,
   "toc_window_display": false
  }
 },
 "nbformat": 4,
 "nbformat_minor": 4
}
