{
 "cells": [
  {
   "cell_type": "markdown",
   "metadata": {},
   "source": [
    "# V4A Example 05 - Bokeh\n",
    "\n",
    "Like matplotlib, the [Bokeh](https://docs.bokeh.org/en/latest/index.html \"bokeh documentation\") visualization library has its own display system in Jupyter and needs an extra library to integrate with ipywidgets.  The [jupyter_bokeh](https://github.com/bokeh/jupyter_bokeh \"Jupyter Bokeh library\") library adds the `BokehModel` class, which wraps Bokeh plots in an ipywidgets-compatible interface.\n",
    "\n",
    "Check out the [Bokeh user guide](https://docs.bokeh.org/en/latest/docs/user_guide/jupyter.html \"Bokeh user guide\") or the [jupyter_bokeh examples](https://github.com/bokeh/jupyter_bokeh/tree/main/examples \"Jupyter Bokeh examples\") for more on using Bokeh in Jupyter, "
   ]
  },
  {
   "cell_type": "code",
   "execution_count": null,
   "metadata": {},
   "outputs": [],
   "source": [
    "from bokeh.io import output_notebook, show\n",
    "from bokeh.plotting import figure\n",
    "import jupyter_bokeh as jbk\n",
    "import ipywidgets as widgets\n",
    "import numpy as np"
   ]
  },
  {
   "cell_type": "markdown",
   "metadata": {},
   "source": [
    "## A Bokeh plot\n",
    "\n",
    "The `output_notebook` function sets up Bokeh to work in Jupyter.  (Tip: pass `hide_banner=True` if you don't want to see the loading message.)"
   ]
  },
  {
   "cell_type": "code",
   "execution_count": null,
   "metadata": {},
   "outputs": [],
   "source": [
    "output_notebook()"
   ]
  },
  {
   "cell_type": "markdown",
   "metadata": {},
   "source": [
    "Normally, you would display a plot with Bokeh's `show` function as shown below.  This will work fine during Voila's Rendering Phase, but if you need to show the plot from a widget event callback and/or incorporate it into a widget layout, you'll need a wrapper."
   ]
  },
  {
   "cell_type": "code",
   "execution_count": null,
   "metadata": {},
   "outputs": [],
   "source": [
    "x = np.linspace(0, 10, 100)\n",
    "y = np.sin(x)\n",
    "fig = figure(title='sin(x)')\n",
    "fig.line(x, y)\n",
    "show(fig)"
   ]
  },
  {
   "cell_type": "markdown",
   "metadata": {},
   "source": [
    "## BokehModel wrapper widget\n",
    "\n",
    "The `jupyter_bokeh` package introduces the `BokehModel` class.  Just wrap your Bokeh figure with it, and now you have a compatible widget!"
   ]
  },
  {
   "cell_type": "code",
   "execution_count": null,
   "metadata": {},
   "outputs": [],
   "source": [
    "model = jbk.BokehModel(fig)\n",
    "widgets.VBox([widgets.Button(description='hello'), model])"
   ]
  },
  {
   "cell_type": "code",
   "execution_count": null,
   "metadata": {},
   "outputs": [],
   "source": []
  }
 ],
 "metadata": {
  "kernelspec": {
   "display_name": "Python 3",
   "language": "python",
   "name": "python3"
  },
  "language_info": {
   "codemirror_mode": {
    "name": "ipython",
    "version": 3
   },
   "file_extension": ".py",
   "mimetype": "text/x-python",
   "name": "python",
   "nbconvert_exporter": "python",
   "pygments_lexer": "ipython3",
   "version": "3.8.5"
  },
  "toc": {
   "base_numbering": 1,
   "nav_menu": {},
   "number_sections": true,
   "sideBar": true,
   "skip_h1_title": false,
   "title_cell": "Table of Contents",
   "title_sidebar": "Contents",
   "toc_cell": false,
   "toc_position": {},
   "toc_section_display": true,
   "toc_window_display": false
  }
 },
 "nbformat": 4,
 "nbformat_minor": 4
}
