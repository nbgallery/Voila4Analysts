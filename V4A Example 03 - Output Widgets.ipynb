{
 "cells": [
  {
   "cell_type": "markdown",
   "metadata": {},
   "source": [
    "# V4A Example 03 - Output Widgets\n",
    "\n",
    "If you're using [widget events and callbacks](https://ipywidgets.readthedocs.io/en/latest/examples/Widget%20Events.html \"Widget Events\"), the [Output widget](https://ipywidgets.readthedocs.io/en/latest/examples/Output%20Widget.html \"Output widget\") is one of the most useful tools for making your notebook work in Voila.  If you have a callback function that uses `print()` or [`IPython.display`](https://ipython.readthedocs.io/en/stable/api/generated/IPython.display.html \"IPython.display documentation\") to display output, that output will not show up in Voila.  The Output widget is a quick way to fix that with minimal changes to your notebook.  "
   ]
  },
  {
   "cell_type": "code",
   "execution_count": null,
   "metadata": {},
   "outputs": [],
   "source": [
    "from IPython.display import display, HTML, clear_output\n",
    "import ipywidgets as widgets"
   ]
  },
  {
   "cell_type": "markdown",
   "metadata": {},
   "source": [
    "## The Problem\n",
    "\n",
    "Continuing from the [Interact example](V4A%20Example%2002%20-%20Interact.ipynb \"Example 2\"), suppose you can't use the `interact` family for some reason, so you've put together your own widget UI, with your analysis triggered by a button click."
   ]
  },
  {
   "cell_type": "code",
   "execution_count": null,
   "metadata": {},
   "outputs": [],
   "source": [
    "def square1(b):\n",
    "    x = input1.value\n",
    "    print(x * x)\n",
    "    \n",
    "input1 = widgets.IntSlider(value=5, min=0, max=10)\n",
    "button1 = widgets.Button(description=\"Square it!\")\n",
    "button1.on_click(square1)\n",
    "\n",
    "widgets.HBox(children=[input1, button1])"
   ]
  },
  {
   "cell_type": "markdown",
   "metadata": {},
   "source": [
    "While this works fine in Jupyter, the print statement in the callback doesn't show up in Voila!  This is because the kernel can only print to the cell output area during the Rendering Phase, but the square function gets called during the Interactive Phase when your user clicks the button.  Remember that during the Interactive Phase, only widgets can talk to the kernel."
   ]
  },
  {
   "cell_type": "markdown",
   "metadata": {},
   "source": [
    "## The Solution\n",
    "\n",
    "So how can you fix this?  Well, one way might be to use another widget."
   ]
  },
  {
   "cell_type": "code",
   "execution_count": null,
   "metadata": {},
   "outputs": [],
   "source": [
    "def square2(b):\n",
    "    x = input2.value\n",
    "    output2.value = x * x\n",
    "    \n",
    "input2 = widgets.IntSlider(value=5, min=0, max=10)\n",
    "output2 = widgets.IntText()\n",
    "button2 = widgets.Button(description=\"Square it!\")\n",
    "button2.on_click(square2)\n",
    "\n",
    "widgets.HBox(children=[input2, button2, output2])"
   ]
  },
  {
   "cell_type": "markdown",
   "metadata": {},
   "source": [
    "That works for simple cases, but the Output widget is a more general solution that you can use for anything from print statements to rich output like charts and maps. Anything that Jupyter can display, the Output widget can display too.  And by using the Output widget as a decorator on your callback function, you don't have to change much of your code.  All you need to do is create the Output widget, capture the output of your callback, and make sure to include the Output widget in your layout somewhere.  Here's how you might fix that first example above."
   ]
  },
  {
   "cell_type": "code",
   "execution_count": null,
   "metadata": {},
   "outputs": [],
   "source": [
    "output3 = widgets.Output()\n",
    "\n",
    "@output3.capture()\n",
    "def square3(b):\n",
    "    x = input3.value\n",
    "    print(x * x)\n",
    "    \n",
    "input3 = widgets.IntSlider(value=5, min=0, max=10)\n",
    "button3 = widgets.Button(description=\"Square it!\")\n",
    "button3.on_click(square3)\n",
    "\n",
    "widgets.VBox([widgets.HBox([input3, button3]), output3])"
   ]
  },
  {
   "cell_type": "markdown",
   "metadata": {},
   "source": [
    "You can also clear the output each time the callback runs."
   ]
  },
  {
   "cell_type": "code",
   "execution_count": null,
   "metadata": {},
   "outputs": [],
   "source": [
    "output4 = widgets.Output()\n",
    "\n",
    "@output4.capture(clear_output=True)\n",
    "def square4(b):\n",
    "    x = input4.value\n",
    "    print(x * x)\n",
    "    \n",
    "input4 = widgets.IntSlider(value=5, min=0, max=10)\n",
    "button4 = widgets.Button(description=\"Square it!\")\n",
    "button4.on_click(square4)\n",
    "\n",
    "widgets.VBox([widgets.HBox([input4, button4]), output4])"
   ]
  },
  {
   "cell_type": "markdown",
   "metadata": {},
   "source": [
    "And you can use `IPython.display`, including calling `clear_output` manually."
   ]
  },
  {
   "cell_type": "code",
   "execution_count": null,
   "metadata": {},
   "outputs": [],
   "source": [
    "output5 = widgets.Output()\n",
    "\n",
    "@output5.capture()\n",
    "def square5(b):\n",
    "    x = input5.value\n",
    "    clear_output()\n",
    "    display(HTML(f\"<h3><i>{x * x}</i></h3>\"))\n",
    "    \n",
    "input5 = widgets.IntSlider(value=5, min=0, max=10)\n",
    "button5 = widgets.Button(description=\"Square it!\")\n",
    "button5.on_click(square5)\n",
    "\n",
    "widgets.VBox([widgets.HBox([input5, button5]), output5])"
   ]
  },
  {
   "cell_type": "code",
   "execution_count": null,
   "metadata": {},
   "outputs": [],
   "source": []
  }
 ],
 "metadata": {
  "kernelspec": {
   "display_name": "Python 3",
   "language": "python",
   "name": "python3"
  },
  "language_info": {
   "codemirror_mode": {
    "name": "ipython",
    "version": 3
   },
   "file_extension": ".py",
   "mimetype": "text/x-python",
   "name": "python",
   "nbconvert_exporter": "python",
   "pygments_lexer": "ipython3",
   "version": "3.8.5"
  },
  "toc": {
   "base_numbering": 1,
   "nav_menu": {},
   "number_sections": true,
   "sideBar": true,
   "skip_h1_title": false,
   "title_cell": "Table of Contents",
   "title_sidebar": "Contents",
   "toc_cell": false,
   "toc_position": {},
   "toc_section_display": true,
   "toc_window_display": false
  }
 },
 "nbformat": 4,
 "nbformat_minor": 4
}
