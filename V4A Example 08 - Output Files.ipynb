{
 "cells": [
  {
   "cell_type": "markdown",
   "metadata": {},
   "source": [
    "# V4A Example 08 - Output Files\n",
    "\n",
    "This example shows some things to consider if your notebook generates output files for the user to download."
   ]
  },
  {
   "cell_type": "code",
   "execution_count": null,
   "metadata": {},
   "outputs": [],
   "source": [
    "import base64\n",
    "from IPython.display import FileLink"
   ]
  },
  {
   "cell_type": "markdown",
   "metadata": {},
   "source": [
    "## Create some files\n",
    "\n",
    "Let's create a python text file and an image of an orange square."
   ]
  },
  {
   "cell_type": "code",
   "execution_count": null,
   "metadata": {},
   "outputs": [],
   "source": [
    "with open('foo.py', 'w') as f:\n",
    "    f.write(\"# hello\")"
   ]
  },
  {
   "cell_type": "code",
   "execution_count": null,
   "metadata": {},
   "outputs": [],
   "source": [
    "# thanks https://png-pixel.com/\n",
    "png = 'iVBORw0KGgoAAAANSUhEUgAAAB4AAAAeCAYAAAA7MK6iAAAAKklEQVR42u3NMQEAAAQAMHrKrBIxOLYCy66YOJBisVgsFovFYrFYLP4bLyXBQO1H1RODAAAAAElFTkSuQmCC'\n",
    "with open('foo.png', 'wb') as f:\n",
    "    f.write(base64.b64decode(png))"
   ]
  },
  {
   "cell_type": "markdown",
   "metadata": {},
   "source": [
    "## FileLink\n",
    "\n",
    "Don't worry about trying to figure out an absolute URL to link to your files.  If you use a [FileLink](https://ipython.readthedocs.io/en/stable/api/generated/IPython.display.html#IPython.display.FileLink \"FileLink documentation\") with the same relative path that you used to create the files, then the links will be correct in both Jupyter and Voila.\n",
    "\n",
    "Now, this is where Voila's security comes into play.  By default, `py` files are not allowed to be downloaded.  So this link will work in Jupyter but not in Voila.  In Voila, you'll see a 403 Forbidden error."
   ]
  },
  {
   "cell_type": "code",
   "execution_count": null,
   "metadata": {},
   "outputs": [],
   "source": [
    "FileLink('foo.py')"
   ]
  },
  {
   "cell_type": "markdown",
   "metadata": {},
   "source": [
    "However, `png` files are allowed by default, so this one should work in both Jupyter and Voila."
   ]
  },
  {
   "cell_type": "code",
   "execution_count": null,
   "metadata": {},
   "outputs": [],
   "source": [
    "FileLink('foo.png')"
   ]
  },
  {
   "cell_type": "markdown",
   "metadata": {},
   "source": [
    "Last, another advantage of using FileLink is that it will tell you if you get the filename wrong."
   ]
  },
  {
   "cell_type": "code",
   "execution_count": null,
   "metadata": {},
   "outputs": [],
   "source": [
    "FileLink('oops.png')"
   ]
  },
  {
   "cell_type": "code",
   "execution_count": null,
   "metadata": {},
   "outputs": [],
   "source": []
  }
 ],
 "metadata": {
  "kernelspec": {
   "display_name": "Python 3",
   "language": "python",
   "name": "python3"
  },
  "language_info": {
   "codemirror_mode": {
    "name": "ipython",
    "version": 3
   },
   "file_extension": ".py",
   "mimetype": "text/x-python",
   "name": "python",
   "nbconvert_exporter": "python",
   "pygments_lexer": "ipython3",
   "version": "3.8.5"
  },
  "toc": {
   "base_numbering": 1,
   "nav_menu": {},
   "number_sections": true,
   "sideBar": true,
   "skip_h1_title": false,
   "title_cell": "Table of Contents",
   "title_sidebar": "Contents",
   "toc_cell": false,
   "toc_position": {},
   "toc_section_display": true,
   "toc_window_display": false
  }
 },
 "nbformat": 4,
 "nbformat_minor": 4
}
