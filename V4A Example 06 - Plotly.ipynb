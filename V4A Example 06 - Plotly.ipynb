{
 "cells": [
  {
   "cell_type": "markdown",
   "metadata": {},
   "source": [
    "# V4A Example 06 - Plotly\n",
    "\n",
    "The Plotly case is very similar to Bokeh in [Example 5](V4A%20Example%2005%20-%20Bokeh.ipynb \"Example 5\").  If you need to generate a Plotly figure during Voila's Interactive Phase, or you need to incorporate it into a larger widget layout, you can wrap it in a `FigureWidget`.\n",
    "\n",
    "For more information, see the [FigureWidget documentation](https://plotly.com/python/figurewidget/ \"FigureWidget documentation\") or some [official examples](https://github.com/jonmmease/plotly_ipywidget_notebooks \"Plotly notebooks\")."
   ]
  },
  {
   "cell_type": "code",
   "execution_count": null,
   "metadata": {},
   "outputs": [],
   "source": [
    "import plotly.graph_objects as go\n",
    "import plotly.express as px\n",
    "import ipywidgets as widgets\n",
    "import numpy as np"
   ]
  },
  {
   "cell_type": "markdown",
   "metadata": {},
   "source": [
    "## A Plotly figure\n",
    "\n",
    "Normally you would use `show()` to display a figure, and you should be able to do this during Voila's Rendering Phase *(however, it doesn't seem to be working quite right as of this writing)*."
   ]
  },
  {
   "cell_type": "code",
   "execution_count": null,
   "metadata": {},
   "outputs": [],
   "source": [
    "x = np.linspace(0, 10, 100)\n",
    "y = np.sin(x)\n",
    "fig = px.line(x=x, y=y)\n",
    "fig.show()"
   ]
  },
  {
   "cell_type": "markdown",
   "metadata": {},
   "source": [
    "## FigureWidget wrapper\n",
    "\n",
    "Just wrap the Plotly figure with a `FigureWidget` if you need it to be ipywidgets-compatible!"
   ]
  },
  {
   "cell_type": "code",
   "execution_count": null,
   "metadata": {
    "scrolled": true
   },
   "outputs": [],
   "source": [
    "fw = go.FigureWidget(fig)\n",
    "widgets.VBox([widgets.Text(value='hello world'), fw])"
   ]
  },
  {
   "cell_type": "code",
   "execution_count": null,
   "metadata": {},
   "outputs": [],
   "source": []
  }
 ],
 "metadata": {
  "kernelspec": {
   "display_name": "Python 3",
   "language": "python",
   "name": "python3"
  },
  "language_info": {
   "codemirror_mode": {
    "name": "ipython",
    "version": 3
   },
   "file_extension": ".py",
   "mimetype": "text/x-python",
   "name": "python",
   "nbconvert_exporter": "python",
   "pygments_lexer": "ipython3",
   "version": "3.8.5"
  },
  "toc": {
   "base_numbering": 1,
   "nav_menu": {},
   "number_sections": true,
   "sideBar": true,
   "skip_h1_title": false,
   "title_cell": "Table of Contents",
   "title_sidebar": "Contents",
   "toc_cell": false,
   "toc_position": {},
   "toc_section_display": true,
   "toc_window_display": false
  }
 },
 "nbformat": 4,
 "nbformat_minor": 4
}
