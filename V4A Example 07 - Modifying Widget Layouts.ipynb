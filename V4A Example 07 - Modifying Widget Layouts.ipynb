{
 "cells": [
  {
   "cell_type": "markdown",
   "metadata": {},
   "source": [
    "# V4A Example 07 - Modifying Widget Layouts\n",
    "\n",
    "Here are three strategies for modifying widget layouts on the fly during Voila's Interactive Phase."
   ]
  },
  {
   "cell_type": "code",
   "execution_count": null,
   "metadata": {},
   "outputs": [],
   "source": [
    "import ipywidgets as widgets\n",
    "from IPython.display import display"
   ]
  },
  {
   "cell_type": "markdown",
   "metadata": {},
   "source": [
    "## Adding and removing children\n",
    "\n",
    "As long as you place a container widget during the Rendering Phase, you can add and remove child widgets later.\n",
    "\n",
    "In this example, you can click buttons to add or remove text boxes from a container widget."
   ]
  },
  {
   "cell_type": "code",
   "execution_count": null,
   "metadata": {},
   "outputs": [],
   "source": [
    "text_boxes = widgets.VBox(children=[widgets.Text(value='0')])\n",
    "add_button = widgets.Button(description='Add')\n",
    "remove_button = widgets.Button(description='Remove')\n",
    "\n",
    "def on_add(b):\n",
    "    new_box = widgets.Text(value=str(len(text_boxes.children)))\n",
    "    text_boxes.children = list(text_boxes.children) + [new_box]\n",
    "\n",
    "def on_remove(b):\n",
    "    text_boxes.children = text_boxes.children[:-1]\n",
    "    \n",
    "add_button.on_click(on_add)\n",
    "remove_button.on_click(on_remove)\n",
    "widgets.HBox([add_button, remove_button, text_boxes])"
   ]
  },
  {
   "cell_type": "markdown",
   "metadata": {},
   "source": [
    "## Toggling visibility\n",
    "\n",
    "Create all the widgets you might possibly need, then keep them hidden if you don't.\n",
    "\n",
    "In this example, you can move the slider to change how many of the buttons are visible."
   ]
  },
  {
   "cell_type": "code",
   "execution_count": null,
   "metadata": {},
   "outputs": [],
   "source": [
    "def update_visibility(change):\n",
    "    for i, b in enumerate(buttons):\n",
    "        if i < change.new:\n",
    "            b.layout.visibility = 'visible'\n",
    "        else:\n",
    "            b.layout.visibility = 'hidden'\n",
    "    \n",
    "N = 5\n",
    "buttons = [widgets.Button(description=str(i+1)) for i in range(0, N)]\n",
    "slider = widgets.IntSlider(value=N, min=0, max=N)\n",
    "slider.observe(update_visibility, names='value')\n",
    "buttons_box = widgets.HBox(buttons)\n",
    "widgets.VBox([buttons_box, slider])"
   ]
  },
  {
   "cell_type": "markdown",
   "metadata": {},
   "source": [
    "## Using an Output widget\n",
    "\n",
    "Place an Output widget during the Rendering Phase, then display new widgets inside it.\n",
    "\n",
    "In this example, you can create new buttons by typing a name in the text box and pressing enter.  The new buttons are displayed in an Output widget, and they are connected to a callback to show when they are clicked."
   ]
  },
  {
   "cell_type": "code",
   "execution_count": null,
   "metadata": {},
   "outputs": [],
   "source": [
    "button_holder = widgets.Output()\n",
    "click_output = widgets.Output()\n",
    "name = widgets.Text(placeholder='Enter a new button name')\n",
    "\n",
    "@click_output.capture()\n",
    "def on_click(button):\n",
    "    print(button.description)\n",
    "    \n",
    "@button_holder.capture()\n",
    "def on_submit(text):\n",
    "    new_button = widgets.Button(description=text.value)\n",
    "    new_button.on_click(on_click)\n",
    "    display(new_button)\n",
    "    text.value = ''\n",
    "\n",
    "name.on_submit(on_submit)\n",
    "left = widgets.VBox([name, button_holder])\n",
    "right = widgets.VBox([widgets.Label(value='Buttons clicked:'), click_output])\n",
    "widgets.HBox([left, right])"
   ]
  },
  {
   "cell_type": "code",
   "execution_count": null,
   "metadata": {},
   "outputs": [],
   "source": []
  }
 ],
 "metadata": {
  "kernelspec": {
   "display_name": "Python 3",
   "language": "python",
   "name": "python3"
  },
  "language_info": {
   "codemirror_mode": {
    "name": "ipython",
    "version": 3
   },
   "file_extension": ".py",
   "mimetype": "text/x-python",
   "name": "python",
   "nbconvert_exporter": "python",
   "pygments_lexer": "ipython3",
   "version": "3.8.5"
  },
  "toc": {
   "base_numbering": 1,
   "nav_menu": {},
   "number_sections": true,
   "sideBar": true,
   "skip_h1_title": false,
   "title_cell": "Table of Contents",
   "title_sidebar": "Contents",
   "toc_cell": false,
   "toc_position": {},
   "toc_section_display": true,
   "toc_window_display": false
  }
 },
 "nbformat": 4,
 "nbformat_minor": 4
}
