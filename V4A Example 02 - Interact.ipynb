{
 "cells": [
  {
   "cell_type": "markdown",
   "metadata": {},
   "source": [
    "# V4A Example 02 - Interact\n",
    "\n",
    "If most of your analysis can be wrapped up in a function call, the [`interact` family of functions](https://ipywidgets.readthedocs.io/en/latest/examples/Using%20Interact.html) may be the quickest way to attach a widget UI that will work in Voila. "
   ]
  },
  {
   "cell_type": "code",
   "execution_count": null,
   "metadata": {},
   "outputs": [],
   "source": [
    "from IPython.display import display, HTML\n",
    "from ipywidgets import interact, interact_manual, interactive_output\n",
    "import ipywidgets as widgets"
   ]
  },
  {
   "cell_type": "markdown",
   "metadata": {},
   "source": [
    "## `interact`\n",
    "\n",
    "The `interact` function will automatically build a widget interface based on the parameters to your function.  For example, suppose you want to square a number.  If you set an initial value of 10, then by default, interact will generate a slider for you and display the result of calling `square()` on the value."
   ]
  },
  {
   "cell_type": "code",
   "execution_count": null,
   "metadata": {},
   "outputs": [],
   "source": [
    "def square(x):\n",
    "    return x * x\n",
    "\n",
    "interact(square, x=5);"
   ]
  },
  {
   "cell_type": "markdown",
   "metadata": {},
   "source": [
    "Or you can give it a range."
   ]
  },
  {
   "cell_type": "code",
   "execution_count": null,
   "metadata": {},
   "outputs": [],
   "source": [
    "interact(square, x=(-5, 5));"
   ]
  },
  {
   "cell_type": "markdown",
   "metadata": {},
   "source": [
    "Or you can explicitly tell it what kind of input widget to use."
   ]
  },
  {
   "cell_type": "code",
   "execution_count": null,
   "metadata": {},
   "outputs": [],
   "source": [
    "interact(square, x=widgets.IntText(value=5));"
   ]
  },
  {
   "cell_type": "markdown",
   "metadata": {},
   "source": [
    "## `interact_manual`\n",
    "\n",
    "Sometimes you might want your user to click a button to make the function run.  You may want ot do this if your function takes a few seconds to finish, so you don't want it to run every time the user adjusts an input value.  This might also be useful if you have multiple input parameters and you want to give the user a chance to set all of them before calling your function."
   ]
  },
  {
   "cell_type": "code",
   "execution_count": null,
   "metadata": {},
   "outputs": [],
   "source": [
    "interact_manual(square, x=5);"
   ]
  },
  {
   "cell_type": "markdown",
   "metadata": {},
   "source": [
    "## `interactive_output`\n",
    "\n",
    "If you want more control over your widget layout, you can use `interactive_output`.  This works a little differently, though.  First, you'll need to create the input widgets yourself, and when you call `interactive_output` it will return another widget that you can include in your layout.  Second, your function needs to display its output instead of returning it."
   ]
  },
  {
   "cell_type": "code",
   "execution_count": null,
   "metadata": {},
   "outputs": [],
   "source": [
    "def print_square(x):\n",
    "    print(x * x)\n",
    "    \n",
    "input_x = widgets.IntSlider(value=5, min=0, max=10)\n",
    "output = interactive_output(print_square, {'x': input_x})\n",
    "\n",
    "widgets.HBox(children=[input_x, output])"
   ]
  },
  {
   "cell_type": "markdown",
   "metadata": {},
   "source": [
    "You can also use [`IPython.display`](https://ipython.readthedocs.io/en/stable/api/generated/IPython.display.html) functions for your output."
   ]
  },
  {
   "cell_type": "code",
   "execution_count": null,
   "metadata": {},
   "outputs": [],
   "source": [
    "def html_square(x):\n",
    "    display(HTML(f\"<h3><i>{x * x}</i></h3>\"))\n",
    "    \n",
    "input_x = widgets.IntSlider(value=5, min=0, max=10)\n",
    "output = interactive_output(html_square, {'x': input_x})\n",
    "\n",
    "widgets.HBox(children=[input_x, output])"
   ]
  },
  {
   "cell_type": "code",
   "execution_count": null,
   "metadata": {},
   "outputs": [],
   "source": []
  }
 ],
 "metadata": {
  "kernelspec": {
   "display_name": "Python 3",
   "language": "python",
   "name": "python3"
  },
  "language_info": {
   "codemirror_mode": {
    "name": "ipython",
    "version": 3
   },
   "file_extension": ".py",
   "mimetype": "text/x-python",
   "name": "python",
   "nbconvert_exporter": "python",
   "pygments_lexer": "ipython3",
   "version": "3.8.5"
  },
  "toc": {
   "base_numbering": 1,
   "nav_menu": {},
   "number_sections": true,
   "sideBar": true,
   "skip_h1_title": false,
   "title_cell": "Table of Contents",
   "title_sidebar": "Contents",
   "toc_cell": false,
   "toc_position": {},
   "toc_section_display": true,
   "toc_window_display": false
  }
 },
 "nbformat": 4,
 "nbformat_minor": 4
}
